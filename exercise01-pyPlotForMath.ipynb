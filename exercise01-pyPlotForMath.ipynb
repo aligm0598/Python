{
 "cells": [
  {
   "cell_type": "markdown",
   "metadata": {},
   "source": [
    "exercise 01, compare package Numpy and Pandas"
   ]
  },
  {
   "cell_type": "code",
   "execution_count": null,
   "metadata": {},
   "outputs": [],
   "source": [
    "# setup working environment and initiate arries\n",
    "import numpy as numpy\n",
    "import pandas as pandas\n",
    "\n",
    "max = 10\n",
    "arrayX = numpy.arange(max)\n",
    "arrayY1 = numpy.arange(max)\n",
    "arrayY2 = numpy.arange(max)\n",
    "arrayY3 = numpy.arange(max)"
   ]
  },
  {
   "cell_type": "code",
   "execution_count": null,
   "metadata": {},
   "outputs": [],
   "source": [
    "base = 50\n",
    "rate = 4\n",
    "\n",
    "index = 0\n",
    "while index < len(arrayX):\n",
    "    arrayY1[index] = base + rate*arrayX[index]\n",
    "    index = index + 1"
   ]
  },
  {
   "cell_type": "code",
   "execution_count": null,
   "metadata": {},
   "outputs": [],
   "source": [
    "base = 50\n",
    "rate = 10\n",
    "index = 0\n",
    "while index < len(arrayX):\n",
    "    arrayY2[index] = base + rate*arrayX[index]\n",
    "    index = index + 1"
   ]
  },
  {
   "cell_type": "code",
   "execution_count": null,
   "metadata": {},
   "outputs": [],
   "source": [
    "base = 50\n",
    "rate = 0\n",
    "index = 0\n",
    "while index < len(arrayX):\n",
    "    arrayY3[index] = base + rate*arrayX[index]\n",
    "    index = index + 1"
   ]
  },
  {
   "cell_type": "code",
   "execution_count": null,
   "metadata": {},
   "outputs": [],
   "source": [
    "# convert numpy arries to a dataframe\n",
    "df = pandas.DataFrame()\n",
    "df['x'] = arrayX.tolist()\n",
    "df['y1'] = arrayY1.tolist()\n",
    "df['y2'] = arrayY2.tolist()\n",
    "df['y3'] = arrayY3.tolist()\n"
   ]
  },
  {
   "cell_type": "code",
   "execution_count": null,
   "metadata": {},
   "outputs": [],
   "source": [
    "# visualization to plot\n",
    "import matplotlib.pyplot as pyplot\n",
    "\n",
    "pyplot.scatter(df['x'], df['y1'], color='red')\n",
    "pyplot.plot(df['x'], df['y1'], color='red', linewidth=0.5)\n",
    "\n",
    "pyplot.scatter(df['x'], df['y2'], color='blue')\n",
    "pyplot.plot(df['x'], df['y2'], color='blue', linewidth=0.5)\n",
    "\n",
    "pyplot.scatter(df['x'], df['y3'], color='black')\n",
    "pyplot.plot(df['x'], df['y3'], color='black', linewidth=0.5)\n",
    "\n",
    "pyplot.ylim(ymin=0)\n",
    "pyplot.xlim(xmin=0)\n",
    "pyplot.xticks(range(0, max+1))\n",
    "pyplot.grid()\n",
    "\n",
    "pyplot.show()"
   ]
  }
 ],
 "metadata": {
  "kernelspec": {
   "display_name": "Python 3.9.6 64-bit",
   "language": "python",
   "name": "python3"
  },
  "language_info": {
   "codemirror_mode": {
    "name": "ipython",
    "version": 3
   },
   "file_extension": ".py",
   "mimetype": "text/x-python",
   "name": "python",
   "nbconvert_exporter": "python",
   "pygments_lexer": "ipython3",
   "version": "3.9.6"
  },
  "metadata": {
   "interpreter": {
    "hash": "8e61c9422603e3d3820d3aeca1b8eefe471d1a1023a28a3903412dc32402bf43"
   }
  },
  "orig_nbformat": 2,
  "vscode": {
   "interpreter": {
    "hash": "31f2aee4e71d21fbe5cf8b01ff0e069b9275f58929596ceb00d14d90e3e16cd6"
   }
  }
 },
 "nbformat": 4,
 "nbformat_minor": 2
}
