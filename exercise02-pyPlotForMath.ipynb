{
 "cells": [
  {
   "cell_type": "code",
   "execution_count": 74,
   "metadata": {},
   "outputs": [],
   "source": [
    "import numpy as numpy\n",
    "\n",
    "x = numpy.array([0,1,3,4,5,6])\n",
    "y = numpy.array([0,2,6,8,10,12])\n",
    "run = numpy.arange(len(x))\n",
    "rise = numpy.arange(len(y))\n",
    "rate = numpy.arange(len(y))"
   ]
  },
  {
   "cell_type": "code",
   "execution_count": 75,
   "metadata": {},
   "outputs": [],
   "source": [
    "index = 1\n",
    "while index < len(x):\n",
    "    run[index] = x[index] - x[index -1]\n",
    "    index = index + 1\n",
    "\n",
    "index = 1\n",
    "while index < len(y):\n",
    "    rise[index] = y[index] - y[index -1]\n",
    "    index = index + 1\n",
    "\n",
    "index = 1\n",
    "while index < len(y):\n",
    "    rate[index] = rise[index] / run[index]\n",
    "    index = index + 1"
   ]
  },
  {
   "cell_type": "code",
   "execution_count": 76,
   "metadata": {},
   "outputs": [],
   "source": [
    "import pandas as pandas\n",
    "\n",
    "df = pandas.DataFrame()\n",
    "df['x'] = x.tolist()\n",
    "df['y'] = y.tolist()\n",
    "df['run'] = run.tolist()\n",
    "df['rise'] = rise.tolist()\n",
    "df['rate'] = rate.tolist()"
   ]
  },
  {
   "cell_type": "code",
   "execution_count": 77,
   "metadata": {},
   "outputs": [
    {
     "data": {
      "image/png": "[encoded data removed]",
      "text/plain": [
       "<Figure size 640x480 with 1 Axes>"
      ]
     },
     "metadata": {},
     "output_type": "display_data"
    }
   ],
   "source": [
    "import matplotlib.pyplot as pyplot\n",
    "\n",
    "pyplot.scatter(x, y, color='black')\n",
    "pyplot.plot(x, y, color='red', linewidth=0.5)\n",
    "pyplot.ylim(ymin=min(y))\n",
    "pyplot.xlim(xmin=min(x))\n",
    "pyplot.gca().set_aspect('equal', adjustable='box')\n",
    "pyplot.yticks(range(min(y), max(y)+1))\n",
    "pyplot.xticks(range(min(x), max(x)+1))\n",
    "pyplot.grid()\n",
    "pyplot.draw()"
   ]
  }
 ],
 "metadata": {
  "kernelspec": {
   "display_name": "Python 3.9.6 64-bit",
   "language": "python",
   "name": "python3"
  },
  "language_info": {
   "codemirror_mode": {
    "name": "ipython",
    "version": 3
   },
   "file_extension": ".py",
   "mimetype": "text/x-python",
   "name": "python",
   "nbconvert_exporter": "python",
   "pygments_lexer": "ipython3",
   "version": "3.9.6"
  },
  "orig_nbformat": 4,
  "vscode": {
   "interpreter": {
    "hash": "31f2aee4e71d21fbe5cf8b01ff0e069b9275f58929596ceb00d14d90e3e16cd6"
   }
  }
 },
 "nbformat": 4,
 "nbformat_minor": 2
}
