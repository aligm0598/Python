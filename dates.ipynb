{
 "cells": [
  {
   "cell_type": "code",
   "execution_count": 7,
   "metadata": {},
   "outputs": [
    {
     "name": "stdout",
     "output_type": "stream",
     "text": [
      "Today is: 2022-02-15 20:51:35.121799\n",
      "Yesterday was: 2022-02-14 20:51:35.121799\n"
     ]
    }
   ],
   "source": [
    "from datetime import datetime, timedelta\n",
    "today = datetime.now()\n",
    "one_day = timedelta(days=1)\n",
    "yesterday = today - one_day \n",
    "print('Today is: ' + str(today))\n",
    "print('Yesterday was: ' + str(yesterday))"
   ]
  },
  {
   "cell_type": "code",
   "execution_count": 10,
   "metadata": {},
   "outputs": [
    {
     "name": "stdout",
     "output_type": "stream",
     "text": [
      "Birthday: 2008-06-30 00:00:00 Monday\n"
     ]
    }
   ],
   "source": [
    "birthday = input('When is your birthday (dd/mm/yyyy)? ')\n",
    "birthday_date = datetime.strptime(birthday, '%d/%m/%Y')\n",
    "print ('Birthday: ' +str(birthday_date) + ' ' +str(birthday_date.strftime('%A')))\n",
    "#print ('Birthday: ' +str(birthday_date.strftime('%A')))"
   ]
  }
 ],
 "metadata": {
  "interpreter": {
   "hash": "aee8b7b246df8f9039afb4144a1f6fd8d2ca17a180786b69acc140d282b71a49"
  },
  "kernelspec": {
   "display_name": "Python 3.10.0 64-bit",
   "language": "python",
   "name": "python3"
  },
  "language_info": {
   "codemirror_mode": {
    "name": "ipython",
    "version": 3
   },
   "file_extension": ".py",
   "mimetype": "text/x-python",
   "name": "python",
   "nbconvert_exporter": "python",
   "pygments_lexer": "ipython3",
   "version": "3.10.0"
  },
  "orig_nbformat": 4
 },
 "nbformat": 4,
 "nbformat_minor": 2
}
